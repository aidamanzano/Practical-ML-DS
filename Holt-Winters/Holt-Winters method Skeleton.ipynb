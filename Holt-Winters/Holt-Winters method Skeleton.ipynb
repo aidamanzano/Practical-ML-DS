{
 "cells": [
  {
   "cell_type": "code",
   "execution_count": 1,
   "metadata": {},
   "outputs": [
    {
     "data": {
      "text/html": [
       "<style>\n",
       "    /* Jupyter */\n",
       "    .rendered_html tr, .rendered_html th, .rendered_html td {\n",
       "        text-align: left; \n",
       "    }\n",
       "</style>\n"
      ],
      "text/plain": [
       "<IPython.core.display.HTML object>"
      ]
     },
     "metadata": {},
     "output_type": "display_data"
    }
   ],
   "source": [
    "%%html\n",
    "<style>\n",
    "    /* Jupyter */\n",
    "    .rendered_html tr, .rendered_html th, .rendered_html td {\n",
    "        text-align: left; \n",
    "    }\n",
    "</style>"
   ]
  },
  {
   "cell_type": "markdown",
   "metadata": {},
   "source": [
    "# Holt-Winters Method for Time Series Forecasting\n",
    "\n",
    "## Learning Objectives\n",
    "- Examples of general Time Series\n",
    "- Holt-Winters Method for predicting seasonal trends\n",
    "- Representing average, trend, seasonality\n",
    "- Exponential smoothing\n",
    "- Mathematics of the Holt-Winters method\n",
    "\n",
    "Note to self: Change the learning objectives according to content, add pre-requisites if needed."
   ]
  },
  {
   "cell_type": "markdown",
   "metadata": {},
   "source": [
    "In this notebook we'll cover an introduction to time series, key terms used to describe the important features of time series and how to forecast time series using the Holt-Winters method.\n",
    "\n",
    "## Time Series - Intro\n",
    "\n",
    "- Definition of a Time Series\n",
    "- Examples (with code) of Time Series in different disciplines   \n",
    "- Explain concept of observed vs fitted values\n",
    "    - Introduce hat notation\n",
    "- Explain metrics and mathematical formulas for comparing the difference between expected and observed values \n",
    "    - Error\n",
    "    - MSE\n",
    "    - SSE"
   ]
  },
  {
   "cell_type": "markdown",
   "metadata": {},
   "source": [
    "## Forecasting - Intro\n",
    "- What is forecasting?\n",
    "- Forecasting method 1. Simple Averaging\n",
    "    - Add code with example\n",
    "- Forecasting method 2. Moving Averages\n",
    "- Forecasting method 3. Weighted Averaging\n",
    "- What is exponential smoothing?\n",
    "    - Include mathematical formula\n",
    "    - Explain parameter alpha (smoothing factor)\n",
    "- Constraints of single exponential smoothing\n",
    "    - Only good for forecasting single point"
   ]
  },
  {
   "cell_type": "markdown",
   "metadata": {},
   "source": [
    "## Double Exponential Smoothing : Level and Trend\n",
    "- Introduce terminology: level, trend\n",
    "    - Introduce notation of each term \n",
    "    - Point out features such as level, trend with code example\n",
    "- Give definitions of Holts linear trend method/ Double Exponential Smoothing\n",
    "    - Explain the terms in the equations\n",
    "- Constraints of double exponential smoothing \n",
    "    - Can forecast two datapoints"
   ]
  },
  {
   "cell_type": "markdown",
   "metadata": {},
   "source": [
    "## Holt- Winters Method for Forecasting \n",
    "- Explain concept of seasonality\n",
    "    - Add code of time series example with seasonality component\n",
    "- Introduce Holt-Winters Method for Forecasting \n",
    "    - Add the formulas\n",
    "    - Explain the parameters\n",
    "- Can now forecast as many datapoints into the future as you like\n",
    "- Setting up the initial trend and seasonality term \n",
    "    - Include formula\n",
    "    - Add python code for generating initial values for trend and seasonality\n",
    "- Final algorithm, code for Holt-Winters Forecasting\n",
    "- Note on choosing values for alpha, beta, gamma by minimizing SSE\n",
    "    - Can do this by trial and error\n",
    "    - Nelder - Mead algorithm\n",
    "    - Suggest further reading or links for more info on this"
   ]
  },
  {
   "cell_type": "markdown",
   "metadata": {},
   "source": [
    "## Summary\n",
    "- Include summary of key takeaways\n",
    "- Include challenges"
   ]
  }
 ],
 "metadata": {
  "kernelspec": {
   "display_name": "Python 3",
   "language": "python",
   "name": "python3"
  },
  "language_info": {
   "codemirror_mode": {
    "name": "ipython",
    "version": 3
   },
   "file_extension": ".py",
   "mimetype": "text/x-python",
   "name": "python",
   "nbconvert_exporter": "python",
   "pygments_lexer": "ipython3",
   "version": "3.7.4"
  }
 },
 "nbformat": 4,
 "nbformat_minor": 2
}
