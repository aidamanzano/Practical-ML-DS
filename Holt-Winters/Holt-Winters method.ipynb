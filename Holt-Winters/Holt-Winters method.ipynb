{
 "cells": [
  {
   "cell_type": "code",
   "execution_count": 1,
   "metadata": {},
   "outputs": [
    {
     "data": {
      "text/html": [
       "<style>\n",
       "    /* Jupyter */\n",
       "    .rendered_html tr, .rendered_html th, .rendered_html td {\n",
       "        text-align: left; \n",
       "    }\n",
       "</style>\n"
      ],
      "text/plain": [
       "<IPython.core.display.HTML object>"
      ]
     },
     "metadata": {},
     "output_type": "display_data"
    }
   ],
   "source": [
    "%%html\n",
    "<style>\n",
    "    /* Jupyter */\n",
    "    .rendered_html tr, .rendered_html th, .rendered_html td {\n",
    "        text-align: left; \n",
    "    }\n",
    "</style>"
   ]
  },
  {
   "cell_type": "markdown",
   "metadata": {},
   "source": [
    "# Holt-Winters Method for Time Series Forecasting\n",
    "\n",
    "## Learning Objectives\n",
    "- Examples of general Time Series\n",
    "- Holt-Winters Method for predicting seasonal trends\n",
    "- Representing average, trend, seasonality\n",
    "- Exponential smoothing\n",
    "- Mathematics of the Holt-Winters method\n",
    "\n",
    "Note to self: Change the learning objectives according to content, add pre-requisites if needed."
   ]
  },
  {
   "cell_type": "markdown",
   "metadata": {},
   "source": [
    "In this notebook we'll cover an introduction to time series, key terms used to describe the important features of time series and how to forecast time series using the Holt-Winters method.\n",
    "\n",
    "## Time Series\n",
    "\n",
    "A time series is a sample of measurements of some interesting quantity taken repeatedly over a sustained period of time. It is mathematically represented as a set of vectors x(t),t = 0,1,2,... where t represents the time elapse and the variable x(t) is treated as a random variable. A defining characteristic of a time series is that it is a list of observations where the ordering matters so the data is not necessarily independent and identically distributed. Changing the order of the datapoints could change the meaning of the data. \n",
    "\n",
    "Time series appear in many different disciplines in the real world such as Economics, Epidemiology, Social Sciences, Physical Sciences etc. \n",
    "\n",
    "Let's have a look at an explicit example of a time series. The following time series dataset is taken from the NASA website and describes the increase in monthly CO2 levels (parts per million) since 2005. \n",
    "\n",
    "Insert code showing table preview of dataset and then time plot of data set.\n",
    "\n",
    "Add more examples maybe..."
   ]
  },
  {
   "cell_type": "markdown",
   "metadata": {},
   "source": [
    "## Forecasting\n",
    "The rest of this notebook will be focusing on time series forecasting and building up to how to use the Holt-Winters method for time series forecasting in particular. But first what is the difference between the terms time series analysis and time series forecasting? Time series analysis is a form of descriptive modeling, this means that someone conducting time series analysis will be looking at a dataset to identify trends and seasonal patterns in the hostorical data, fitting mathematical models to capture the underlying nature of the process generating the data etc. Time series forecasting is a form of predictive modelling with the goal to predict a future value at a particular point in time based on the values we do know.\n",
    "\n",
    "### Some notation and terminology:\n",
    "\n",
    "In a time series the values we do know are referred to as observed values and the values we are trying to forecast are referred to as expected values. In general, we use the notation $\\hat{y}$ to denote expected values. \n",
    "\n",
    "For example, if we have a series that looks like [2,4,6,8,10], we might forecast the next value of this series to be 12. Using this terminology and notation, the observed values are $y_1=2$, $y_2=4$, $y_3=6$, $y_4=8$, $y_5=10$ i.e the observed series is [2,4,6,8,10] and the next expected value is $\\hat{y_6}=12$.\n",
    "\n",
    "It's important to have some metrics to evaluate the accuracy of our forecasts. \n",
    "\n",
    "The error is the difference between an observed value and its forecast. Given a training dataset {$y_{1},\\dots, y_{T}$} and a test dataset {$y_{T+1}, y_{T+2},\\dots$}, the error of a forecast at a given time interval T+h is denoted as $e_{T+h}=y_{T+h} - \\hat{y_{T+h}}$. \n",
    "\n",
    "As the error can be positive or negative it is more helpful to use the absolute terms or as common convention square the error the value is always positive. The sum of squared errors (SSE) is given by $SSE = {\\Sigma_{i=1}}^{i=n} ( y_{i} - \\hat{y_{i}})^{2}$. The SSE measures the inexplained variability or discrepancy between the observed data and the forecasted data. Another common metric used is the mean squared error which is given by $MSE=\\frac{1}{n}{\\Sigma_{i=1}}^{i=n} ( y_{i} - \\hat{y_{i}})^{2}$.\n",
    "\n",
    "Note to self: explain where n comes from or change the notion in error definition to include n."
   ]
  },
  {
   "cell_type": "code",
   "execution_count": 1,
   "metadata": {},
   "outputs": [
    {
     "ename": "SyntaxError",
     "evalue": "invalid syntax (<ipython-input-1-6c129c772487>, line 3)",
     "output_type": "error",
     "traceback": [
      "\u001b[0;36m  File \u001b[0;32m\"<ipython-input-1-6c129c772487>\"\u001b[0;36m, line \u001b[0;32m3\u001b[0m\n\u001b[0;31m    - Forecasting method 1. Simple Averaging\u001b[0m\n\u001b[0m                       ^\u001b[0m\n\u001b[0;31mSyntaxError\u001b[0m\u001b[0;31m:\u001b[0m invalid syntax\n"
     ]
    }
   ],
   "source": [
    "##Forecasting methods\n",
    "\n",
    "- Forecasting method 1. Simple Averaging\n",
    "    - Add code with example\n",
    "- Forecasting method 2. Moving Averages\n",
    "- Forecasting method 3. Weighted Averaging\n",
    "- What is exponential smoothing?\n",
    "    - Include mathematical formula\n",
    "    - Explain parameter alpha (smoothing factor)\n",
    "- Constraints of single exponential smoothing\n",
    "    - Only good for forecasting single point"
   ]
  },
  {
   "cell_type": "markdown",
   "metadata": {},
   "source": [
    "## Double Exponential Smoothing : Level and Trend\n",
    "- Introduce terminology: level, trend\n",
    "    - Introduce notation of each term \n",
    "    - Point out features such as level, trend with code example\n",
    "- Give definitions of Holts linear trend method/ Double Exponential Smoothing\n",
    "    - Explain the terms in the equations\n",
    "- Constraints of double exponential smoothing \n",
    "    - Can forecast two datapoints"
   ]
  },
  {
   "cell_type": "markdown",
   "metadata": {},
   "source": [
    "## Holt- Winters Method for Forecasting \n",
    "- Explain concept of seasonality\n",
    "    - Add code of time series example with seasonality component\n",
    "- Introduce Holt-Winters Method for Forecasting \n",
    "    - Add the formulas\n",
    "    - Explain the parameters\n",
    "- Can now forecast as many datapoints into the future as you like\n",
    "- Setting up the initial trend and seasonality term \n",
    "    - Include formula\n",
    "    - Add python code for generating initial values for trend and seasonality\n",
    "- Final algorithm, code for Holt-Winters Forecasting\n",
    "- Note on choosing values for alpha, beta, gamma by minimizing SSE\n",
    "    - Can do this by trial and error\n",
    "    - Nelder - Mead algorithm\n",
    "    - Suggest further reading or links for more info on this"
   ]
  },
  {
   "cell_type": "markdown",
   "metadata": {},
   "source": [
    "## Summary\n",
    "- Include summary of key takeaways\n",
    "- Include challenges"
   ]
  }
 ],
 "metadata": {
  "kernelspec": {
   "display_name": "Python 3",
   "language": "python",
   "name": "python3"
  },
  "language_info": {
   "codemirror_mode": {
    "name": "ipython",
    "version": 3
   },
   "file_extension": ".py",
   "mimetype": "text/x-python",
   "name": "python",
   "nbconvert_exporter": "python",
   "pygments_lexer": "ipython3",
   "version": "3.7.4"
  }
 },
 "nbformat": 4,
 "nbformat_minor": 2
}
